{
 "cells": [
  {
   "cell_type": "code",
   "execution_count": 1,
   "id": "1ef62f43",
   "metadata": {},
   "outputs": [],
   "source": [
    "# import libraries \n",
    "import pandas as pd\n",
    "import numpy as np\n",
    "import seaborn as sns\n",
    "import matplotlib\n",
    "import matplotlib.pyplot as plt\n",
    "import os\n",
    "import sklearn\n",
    "from sklearn.model_selection import train_test_split \n",
    "from sklearn.linear_model import LinearRegression\n",
    "from sklearn.metrics import mean_squared_error, r2_score\n"
   ]
  },
  {
   "cell_type": "code",
   "execution_count": 2,
   "id": "e1c151ca",
   "metadata": {},
   "outputs": [],
   "source": [
    "# Import Dataset\n",
    "path = r'C:\\Users\\Zarqa Ayub\\Achievement 6'\n",
    "df=pd.read_csv(os.path.join(path,'02. Data', 'Prepared Data', 'df_wrangled.csv'))"
   ]
  },
  {
   "cell_type": "code",
   "execution_count": 3,
   "id": "3b2dff55",
   "metadata": {},
   "outputs": [
    {
     "data": {
      "text/html": [
       "<div>\n",
       "<style scoped>\n",
       "    .dataframe tbody tr th:only-of-type {\n",
       "        vertical-align: middle;\n",
       "    }\n",
       "\n",
       "    .dataframe tbody tr th {\n",
       "        vertical-align: top;\n",
       "    }\n",
       "\n",
       "    .dataframe thead th {\n",
       "        text-align: right;\n",
       "    }\n",
       "</style>\n",
       "<table border=\"1\" class=\"dataframe\">\n",
       "  <thead>\n",
       "    <tr style=\"text-align: right;\">\n",
       "      <th></th>\n",
       "      <th>Unnamed: 0</th>\n",
       "      <th>Code</th>\n",
       "      <th>Year</th>\n",
       "      <th>Meningitis</th>\n",
       "      <th>Alzheimer's Dis. &amp; Oth.</th>\n",
       "      <th>Parkinson's Dis.</th>\n",
       "      <th>Nutr. Def.</th>\n",
       "      <th>Malaria</th>\n",
       "      <th>Drown.</th>\n",
       "      <th>Interp. Viol.</th>\n",
       "      <th>...</th>\n",
       "      <th>Underlying Factor</th>\n",
       "      <th>Continent</th>\n",
       "      <th>Preventable Dis.</th>\n",
       "      <th>Preventable Dis.Norm</th>\n",
       "      <th>Sudden Ext. Cause</th>\n",
       "      <th>Sudden Ext. Cause Norm.</th>\n",
       "      <th>Sudden Int. Cause</th>\n",
       "      <th>Sudden Int. Cause Norm.</th>\n",
       "      <th>GDP Corr.Dis.</th>\n",
       "      <th>GDP Corr.Dis.Norm.</th>\n",
       "    </tr>\n",
       "  </thead>\n",
       "  <tbody>\n",
       "    <tr>\n",
       "      <th>0</th>\n",
       "      <td>0</td>\n",
       "      <td>AFG</td>\n",
       "      <td>2010</td>\n",
       "      <td>2410</td>\n",
       "      <td>1476</td>\n",
       "      <td>465</td>\n",
       "      <td>1974</td>\n",
       "      <td>377</td>\n",
       "      <td>1837</td>\n",
       "      <td>4130</td>\n",
       "      <td>...</td>\n",
       "      <td>Medical_causes</td>\n",
       "      <td>Asia</td>\n",
       "      <td>91634</td>\n",
       "      <td>313.970903</td>\n",
       "      <td>15514</td>\n",
       "      <td>53.156520</td>\n",
       "      <td>84822</td>\n",
       "      <td>290.630552</td>\n",
       "      <td>23633</td>\n",
       "      <td>80.975122</td>\n",
       "    </tr>\n",
       "    <tr>\n",
       "      <th>1</th>\n",
       "      <td>1</td>\n",
       "      <td>AFG</td>\n",
       "      <td>2011</td>\n",
       "      <td>2327</td>\n",
       "      <td>1508</td>\n",
       "      <td>473</td>\n",
       "      <td>1846</td>\n",
       "      <td>390</td>\n",
       "      <td>1775</td>\n",
       "      <td>4170</td>\n",
       "      <td>...</td>\n",
       "      <td>Medical_causes</td>\n",
       "      <td>Asia</td>\n",
       "      <td>91812</td>\n",
       "      <td>304.846900</td>\n",
       "      <td>15299</td>\n",
       "      <td>50.797856</td>\n",
       "      <td>85708</td>\n",
       "      <td>284.579555</td>\n",
       "      <td>24152</td>\n",
       "      <td>80.192811</td>\n",
       "    </tr>\n",
       "    <tr>\n",
       "      <th>2</th>\n",
       "      <td>2</td>\n",
       "      <td>AFG</td>\n",
       "      <td>2012</td>\n",
       "      <td>2254</td>\n",
       "      <td>1544</td>\n",
       "      <td>482</td>\n",
       "      <td>1705</td>\n",
       "      <td>94</td>\n",
       "      <td>1716</td>\n",
       "      <td>4245</td>\n",
       "      <td>...</td>\n",
       "      <td>Medical_causes</td>\n",
       "      <td>Asia</td>\n",
       "      <td>92139</td>\n",
       "      <td>295.683349</td>\n",
       "      <td>15646</td>\n",
       "      <td>50.209593</td>\n",
       "      <td>86785</td>\n",
       "      <td>278.501822</td>\n",
       "      <td>24699</td>\n",
       "      <td>79.261583</td>\n",
       "    </tr>\n",
       "    <tr>\n",
       "      <th>3</th>\n",
       "      <td>3</td>\n",
       "      <td>AFG</td>\n",
       "      <td>2013</td>\n",
       "      <td>2281</td>\n",
       "      <td>1581</td>\n",
       "      <td>491</td>\n",
       "      <td>1690</td>\n",
       "      <td>143</td>\n",
       "      <td>1777</td>\n",
       "      <td>4379</td>\n",
       "      <td>...</td>\n",
       "      <td>Medical_causes</td>\n",
       "      <td>Asia</td>\n",
       "      <td>93288</td>\n",
       "      <td>289.089520</td>\n",
       "      <td>16258</td>\n",
       "      <td>50.381801</td>\n",
       "      <td>87882</td>\n",
       "      <td>272.336905</td>\n",
       "      <td>25348</td>\n",
       "      <td>78.550737</td>\n",
       "    </tr>\n",
       "    <tr>\n",
       "      <th>4</th>\n",
       "      <td>4</td>\n",
       "      <td>AFG</td>\n",
       "      <td>2014</td>\n",
       "      <td>1935</td>\n",
       "      <td>1620</td>\n",
       "      <td>502</td>\n",
       "      <td>1617</td>\n",
       "      <td>228</td>\n",
       "      <td>1757</td>\n",
       "      <td>4420</td>\n",
       "      <td>...</td>\n",
       "      <td>Medical_causes</td>\n",
       "      <td>Asia</td>\n",
       "      <td>93730</td>\n",
       "      <td>280.874348</td>\n",
       "      <td>16746</td>\n",
       "      <td>50.181605</td>\n",
       "      <td>89181</td>\n",
       "      <td>267.242667</td>\n",
       "      <td>25965</td>\n",
       "      <td>77.807558</td>\n",
       "    </tr>\n",
       "  </tbody>\n",
       "</table>\n",
       "<p>5 rows × 48 columns</p>\n",
       "</div>"
      ],
      "text/plain": [
       "   Unnamed: 0 Code  Year  Meningitis  Alzheimer's Dis. & Oth.  \\\n",
       "0           0  AFG  2010        2410                     1476   \n",
       "1           1  AFG  2011        2327                     1508   \n",
       "2           2  AFG  2012        2254                     1544   \n",
       "3           3  AFG  2013        2281                     1581   \n",
       "4           4  AFG  2014        1935                     1620   \n",
       "\n",
       "   Parkinson's Dis.  Nutr. Def.  Malaria  Drown.  Interp. Viol.  ...  \\\n",
       "0               465        1974      377    1837           4130  ...   \n",
       "1               473        1846      390    1775           4170  ...   \n",
       "2               482        1705       94    1716           4245  ...   \n",
       "3               491        1690      143    1777           4379  ...   \n",
       "4               502        1617      228    1757           4420  ...   \n",
       "\n",
       "   Underlying Factor  Continent  Preventable Dis.  Preventable Dis.Norm  \\\n",
       "0     Medical_causes       Asia             91634            313.970903   \n",
       "1     Medical_causes       Asia             91812            304.846900   \n",
       "2     Medical_causes       Asia             92139            295.683349   \n",
       "3     Medical_causes       Asia             93288            289.089520   \n",
       "4     Medical_causes       Asia             93730            280.874348   \n",
       "\n",
       "   Sudden Ext. Cause  Sudden Ext. Cause Norm.  Sudden Int. Cause  \\\n",
       "0              15514                53.156520              84822   \n",
       "1              15299                50.797856              85708   \n",
       "2              15646                50.209593              86785   \n",
       "3              16258                50.381801              87882   \n",
       "4              16746                50.181605              89181   \n",
       "\n",
       "   Sudden Int. Cause Norm.  GDP Corr.Dis.  GDP Corr.Dis.Norm.  \n",
       "0               290.630552          23633           80.975122  \n",
       "1               284.579555          24152           80.192811  \n",
       "2               278.501822          24699           79.261583  \n",
       "3               272.336905          25348           78.550737  \n",
       "4               267.242667          25965           77.807558  \n",
       "\n",
       "[5 rows x 48 columns]"
      ]
     },
     "execution_count": 3,
     "metadata": {},
     "output_type": "execute_result"
    }
   ],
   "source": [
    "df.head()"
   ]
  },
  {
   "cell_type": "code",
   "execution_count": 4,
   "id": "f4377806",
   "metadata": {},
   "outputs": [],
   "source": [
    "df=df.drop(columns=['Unnamed: 0'])"
   ]
  },
  {
   "cell_type": "code",
   "execution_count": 5,
   "id": "5ef066b7",
   "metadata": {},
   "outputs": [
    {
     "data": {
      "text/plain": [
       "Index(['Code', 'Year', 'Meningitis', 'Alzheimer's Dis. & Oth.',\n",
       "       'Parkinson's Dis.', 'Nutr. Def.', 'Malaria', 'Drown.', 'Interp. Viol.',\n",
       "       'Mat. Dis.', 'HIV/AIDS', 'Drug Use Dis.', 'Tuberculosis',\n",
       "       'Cardiovascular Dis.', 'Low. Resp. Inf.', 'Neonatal Dis.',\n",
       "       'Alcohol Use Dis.', 'Self-harm', 'Exp. to Forces of Nat.',\n",
       "       'Diarr. Dis.', 'Env. Heat and Cold Exp.', 'Neoplasms',\n",
       "       'Conf. and Terr.', 'Diabetes Mellitus', 'Chr. Kidney Dis.',\n",
       "       'Poisonings', 'Prot.-Ener. Malnutr.', 'Road Inj.', 'Chr. Resp. Dis.',\n",
       "       'Cirr. and Chr. Liver Dis.', 'Digestive Dis.', 'Fire, Heat, Hot Subs.',\n",
       "       'Acute Hep.', 'GDP per capita', 'Population', 'Total GDP', 'Top Cause',\n",
       "       'Underlying Factor', 'Continent', 'Preventable Dis.',\n",
       "       'Preventable Dis.Norm', 'Sudden Ext. Cause', 'Sudden Ext. Cause Norm.',\n",
       "       'Sudden Int. Cause', 'Sudden Int. Cause Norm.', 'GDP Corr.Dis.',\n",
       "       'GDP Corr.Dis.Norm.'],\n",
       "      dtype='object')"
      ]
     },
     "execution_count": 5,
     "metadata": {},
     "output_type": "execute_result"
    }
   ],
   "source": [
    "df.columns"
   ]
  },
  {
   "cell_type": "markdown",
   "id": "f8c9b95c",
   "metadata": {},
   "source": [
    "### Linear Regression"
   ]
  },
  {
   "cell_type": "markdown",
   "id": "48d115e7",
   "metadata": {},
   "source": [
    "A higher GDP is commonly associated with improved healthcare access, thereby exerting a direct or indirect influence on specific causes of death. These include deaths from infectious diseases, maternal and child mortality, and fatalities resulting from age-related illnesses. In this linear regression analysis, all other influential factors affecting mortality will be disregarded, focusing solely on the regression between a country's total GDP and the aforementioned causes of death."
   ]
  },
  {
   "cell_type": "markdown",
   "id": "cef46022",
   "metadata": {},
   "source": [
    "### Hypothesis"
   ]
  },
  {
   "cell_type": "markdown",
   "id": "c3fd434b",
   "metadata": {},
   "source": [
    "The Higher the GDP, the Lower Mortality from Infectious Diseases, Maternal and Child Mortality, and Fatalities Resulting from Age-Related Illnesses."
   ]
  },
  {
   "cell_type": "markdown",
   "id": "211aeb71",
   "metadata": {},
   "source": [
    "### Infectious Diseases"
   ]
  },
  {
   "cell_type": "markdown",
   "id": "6b03a397",
   "metadata": {},
   "source": [
    "#### 01. Data Preperation"
   ]
  },
  {
   "cell_type": "code",
   "execution_count": 6,
   "id": "688abb9e",
   "metadata": {},
   "outputs": [],
   "source": [
    "# Create column for the infectious diseases\n",
    "sub_inf_dis=['Meningitis','Nutr. Def.','Malaria','HIV/AIDS','Drug Use Dis.','Tuberculosis',\n",
    "                'Low. Resp. Inf.','Neonatal Dis.','Diarr. Dis.','Exp. to Forces of Nat.']\n",
    "df['Infect. Dis.']=df[sub_inf_dis].sum(axis=1)"
   ]
  },
  {
   "cell_type": "code",
   "execution_count": 31,
   "id": "5e1ba865",
   "metadata": {},
   "outputs": [
    {
     "data": {
      "image/png": "[encoded data removed]",
      "text/plain": [
       "<Figure size 400x400 with 1 Axes>"
      ]
     },
     "metadata": {},
     "output_type": "display_data"
    },
    {
     "data": {
      "text/plain": [
       "<Figure size 640x480 with 0 Axes>"
      ]
     },
     "metadata": {},
     "output_type": "display_data"
    }
   ],
   "source": [
    "# Display the relationship between dependent infectious diseases and independent total GDP\n",
    "df.plot(x = 'Total GDP', y='Infect. Dis.',style='o',color='blue')\n",
    "plt.gcf().set_size_inches(4,4)\n",
    "plt.title('Mortality from Infectious Diseases vs GDP')  \n",
    "plt.xlabel('Total GDP')  \n",
    "plt.ylabel('Infect. Dis.')  \n",
    "plt.show()\n",
    "plt.savefig(\"C:/Users/Zarqa Ayub/Achievement 6/04. Visualisations/Mortality from Infectious diseases vs GDP.png\")"
   ]
  },
  {
   "cell_type": "markdown",
   "id": "b275dfc4",
   "metadata": {},
   "source": [
    "Apart from a few potential outliers, there seems to be a vague or, in some cases, no direct relationship between the two variables."
   ]
  },
  {
   "cell_type": "code",
   "execution_count": 8,
   "id": "ecc2ef51",
   "metadata": {},
   "outputs": [],
   "source": [
    "# Reshape the variables into NumPy arrays and put them into separate objects.\n",
    "X=df['Total GDP'].values.reshape(-1,1)\n",
    "y=df['Infect. Dis.'].values.reshape(-1,1)"
   ]
  },
  {
   "cell_type": "code",
   "execution_count": 9,
   "id": "ce6a356f",
   "metadata": {},
   "outputs": [],
   "source": [
    "# Split data into a training set and a test set.\n",
    "X_train, X_test, y_train, y_test = train_test_split(X, y, test_size=0.3, random_state=0)"
   ]
  },
  {
   "cell_type": "markdown",
   "id": "7a8922f0",
   "metadata": {},
   "source": [
    "#### 02. Regression Training"
   ]
  },
  {
   "cell_type": "code",
   "execution_count": 10,
   "id": "1c1dd4b2",
   "metadata": {},
   "outputs": [
    {
     "data": {
      "text/html": [
       "<style>#sk-container-id-1 {color: black;}#sk-container-id-1 pre{padding: 0;}#sk-container-id-1 div.sk-toggleable {background-color: white;}#sk-container-id-1 label.sk-toggleable__label {cursor: pointer;display: block;width: 100%;margin-bottom: 0;padding: 0.3em;box-sizing: border-box;text-align: center;}#sk-container-id-1 label.sk-toggleable__label-arrow:before {content: \"▸\";float: left;margin-right: 0.25em;color: #696969;}#sk-container-id-1 label.sk-toggleable__label-arrow:hover:before {color: black;}#sk-container-id-1 div.sk-estimator:hover label.sk-toggleable__label-arrow:before {color: black;}#sk-container-id-1 div.sk-toggleable__content {max-height: 0;max-width: 0;overflow: hidden;text-align: left;background-color: #f0f8ff;}#sk-container-id-1 div.sk-toggleable__content pre {margin: 0.2em;color: black;border-radius: 0.25em;background-color: #f0f8ff;}#sk-container-id-1 input.sk-toggleable__control:checked~div.sk-toggleable__content {max-height: 200px;max-width: 100%;overflow: auto;}#sk-container-id-1 input.sk-toggleable__control:checked~label.sk-toggleable__label-arrow:before {content: \"▾\";}#sk-container-id-1 div.sk-estimator input.sk-toggleable__control:checked~label.sk-toggleable__label {background-color: #d4ebff;}#sk-container-id-1 div.sk-label input.sk-toggleable__control:checked~label.sk-toggleable__label {background-color: #d4ebff;}#sk-container-id-1 input.sk-hidden--visually {border: 0;clip: rect(1px 1px 1px 1px);clip: rect(1px, 1px, 1px, 1px);height: 1px;margin: -1px;overflow: hidden;padding: 0;position: absolute;width: 1px;}#sk-container-id-1 div.sk-estimator {font-family: monospace;background-color: #f0f8ff;border: 1px dotted black;border-radius: 0.25em;box-sizing: border-box;margin-bottom: 0.5em;}#sk-container-id-1 div.sk-estimator:hover {background-color: #d4ebff;}#sk-container-id-1 div.sk-parallel-item::after {content: \"\";width: 100%;border-bottom: 1px solid gray;flex-grow: 1;}#sk-container-id-1 div.sk-label:hover label.sk-toggleable__label {background-color: #d4ebff;}#sk-container-id-1 div.sk-serial::before {content: \"\";position: absolute;border-left: 1px solid gray;box-sizing: border-box;top: 0;bottom: 0;left: 50%;z-index: 0;}#sk-container-id-1 div.sk-serial {display: flex;flex-direction: column;align-items: center;background-color: white;padding-right: 0.2em;padding-left: 0.2em;position: relative;}#sk-container-id-1 div.sk-item {position: relative;z-index: 1;}#sk-container-id-1 div.sk-parallel {display: flex;align-items: stretch;justify-content: center;background-color: white;position: relative;}#sk-container-id-1 div.sk-item::before, #sk-container-id-1 div.sk-parallel-item::before {content: \"\";position: absolute;border-left: 1px solid gray;box-sizing: border-box;top: 0;bottom: 0;left: 50%;z-index: -1;}#sk-container-id-1 div.sk-parallel-item {display: flex;flex-direction: column;z-index: 1;position: relative;background-color: white;}#sk-container-id-1 div.sk-parallel-item:first-child::after {align-self: flex-end;width: 50%;}#sk-container-id-1 div.sk-parallel-item:last-child::after {align-self: flex-start;width: 50%;}#sk-container-id-1 div.sk-parallel-item:only-child::after {width: 0;}#sk-container-id-1 div.sk-dashed-wrapped {border: 1px dashed gray;margin: 0 0.4em 0.5em 0.4em;box-sizing: border-box;padding-bottom: 0.4em;background-color: white;}#sk-container-id-1 div.sk-label label {font-family: monospace;font-weight: bold;display: inline-block;line-height: 1.2em;}#sk-container-id-1 div.sk-label-container {text-align: center;}#sk-container-id-1 div.sk-container {/* jupyter's `normalize.less` sets `[hidden] { display: none; }` but bootstrap.min.css set `[hidden] { display: none !important; }` so we also need the `!important` here to be able to override the default hidden behavior on the sphinx rendered scikit-learn.org. See: https://github.com/scikit-learn/scikit-learn/issues/21755 */display: inline-block !important;position: relative;}#sk-container-id-1 div.sk-text-repr-fallback {display: none;}</style><div id=\"sk-container-id-1\" class=\"sk-top-container\"><div class=\"sk-text-repr-fallback\"><pre>LinearRegression()</pre><b>In a Jupyter environment, please rerun this cell to show the HTML representation or trust the notebook. <br />On GitHub, the HTML representation is unable to render, please try loading this page with nbviewer.org.</b></div><div class=\"sk-container\" hidden><div class=\"sk-item\"><div class=\"sk-estimator sk-toggleable\"><input class=\"sk-toggleable__control sk-hidden--visually\" id=\"sk-estimator-id-1\" type=\"checkbox\" checked><label for=\"sk-estimator-id-1\" class=\"sk-toggleable__label sk-toggleable__label-arrow\">LinearRegression</label><div class=\"sk-toggleable__content\"><pre>LinearRegression()</pre></div></div></div></div></div>"
      ],
      "text/plain": [
       "LinearRegression()"
      ]
     },
     "execution_count": 10,
     "metadata": {},
     "output_type": "execute_result"
    }
   ],
   "source": [
    "# Create a regression object.\n",
    "regression = LinearRegression()\n",
    "\n",
    "# Fit the regression object onto the training set.\n",
    "regression.fit(X_train, y_train)"
   ]
  },
  {
   "cell_type": "markdown",
   "id": "eb371733",
   "metadata": {},
   "source": [
    "#### 03. Predicting the testing dependent variable y='Mortality from infectious diseases'"
   ]
  },
  {
   "cell_type": "code",
   "execution_count": 11,
   "id": "152c84a1",
   "metadata": {},
   "outputs": [],
   "source": [
    "# Predict the values of y using X.\n",
    "y_predicted = regression.predict(X_test)"
   ]
  },
  {
   "cell_type": "code",
   "execution_count": 32,
   "id": "7e481ac5",
   "metadata": {},
   "outputs": [
    {
     "data": {
      "image/png": "[encoded data removed]",
      "text/plain": [
       "<Figure size 400x400 with 1 Axes>"
      ]
     },
     "metadata": {},
     "output_type": "display_data"
    },
    {
     "data": {
      "text/plain": [
       "<Figure size 640x480 with 0 Axes>"
      ]
     },
     "metadata": {},
     "output_type": "display_data"
    }
   ],
   "source": [
    "# Create a plot that shows the regression line from the model on the test set.\n",
    "plot_test = plt\n",
    "plot_test.scatter(X_test, y_test, color='blue', s = 15)\n",
    "plot_test.plot(X_test, y_predicted, color='gray', linewidth =3)\n",
    "plt.gcf().set_size_inches(4,4)\n",
    "plot_test.title('Mortality from Infectious Diseases vs GDP (Test set)')\n",
    "plot_test.xlabel('Total GDP')\n",
    "plot_test.ylabel('Mortality: Infectious Dis.')\n",
    "plot_test.show()\n",
    "plt.savefig(\"C:/Users/Zarqa Ayub/Achievement 6/04. Visualisations/Mortality from Infectious diseases vs GDP.png\")"
   ]
  },
  {
   "cell_type": "code",
   "execution_count": 13,
   "id": "06992e72",
   "metadata": {},
   "outputs": [
    {
     "name": "stdout",
     "output_type": "stream",
     "text": [
      "Slope: [[2.28776692e-08]]\n",
      "Mean squared error:  20582030956.455776\n",
      "R2 score:  0.006655002539324051\n"
     ]
    }
   ],
   "source": [
    "# Create objects that contain the model summary statistics.\n",
    "rmse = mean_squared_error(y_test, y_predicted) \n",
    "r2 = r2_score(y_test, y_predicted)\n",
    "\n",
    "# Print the model summary statistics.\n",
    "print('Slope:' ,regression.coef_)\n",
    "print('Mean squared error: ', rmse)\n",
    "print('R2 score: ', r2)"
   ]
  },
  {
   "cell_type": "markdown",
   "id": "0c3d2572",
   "metadata": {},
   "source": [
    "The positive slope implies that as the GDP increases, so does the mortality from infectious diseases. However, the high mean squared error suggests that the data points are located far away from the regression line, indicating that the regression line isn't an accurate representation of the data. Lastly, the R2 score, nearly equal to 0, indicates that the model itself is not a good fit. A brief examination of the actual and predicted variables should be sufficient to observe the inaccuracy of the model."
   ]
  },
  {
   "cell_type": "code",
   "execution_count": 14,
   "id": "2808300e",
   "metadata": {},
   "outputs": [
    {
     "data": {
      "text/html": [
       "<div>\n",
       "<style scoped>\n",
       "    .dataframe tbody tr th:only-of-type {\n",
       "        vertical-align: middle;\n",
       "    }\n",
       "\n",
       "    .dataframe tbody tr th {\n",
       "        vertical-align: top;\n",
       "    }\n",
       "\n",
       "    .dataframe thead th {\n",
       "        text-align: right;\n",
       "    }\n",
       "</style>\n",
       "<table border=\"1\" class=\"dataframe\">\n",
       "  <thead>\n",
       "    <tr style=\"text-align: right;\">\n",
       "      <th></th>\n",
       "      <th>Actual</th>\n",
       "      <th>Predicted</th>\n",
       "    </tr>\n",
       "  </thead>\n",
       "  <tbody>\n",
       "    <tr>\n",
       "      <th>0</th>\n",
       "      <td>18581</td>\n",
       "      <td>46864.718124</td>\n",
       "    </tr>\n",
       "    <tr>\n",
       "      <th>1</th>\n",
       "      <td>55</td>\n",
       "      <td>45446.031428</td>\n",
       "    </tr>\n",
       "    <tr>\n",
       "      <th>2</th>\n",
       "      <td>218</td>\n",
       "      <td>45555.928153</td>\n",
       "    </tr>\n",
       "    <tr>\n",
       "      <th>3</th>\n",
       "      <td>1927</td>\n",
       "      <td>49054.036174</td>\n",
       "    </tr>\n",
       "    <tr>\n",
       "      <th>4</th>\n",
       "      <td>731</td>\n",
       "      <td>46770.250438</td>\n",
       "    </tr>\n",
       "    <tr>\n",
       "      <th>5</th>\n",
       "      <td>77777</td>\n",
       "      <td>45701.087509</td>\n",
       "    </tr>\n",
       "    <tr>\n",
       "      <th>6</th>\n",
       "      <td>79805</td>\n",
       "      <td>45978.742147</td>\n",
       "    </tr>\n",
       "    <tr>\n",
       "      <th>7</th>\n",
       "      <td>63382</td>\n",
       "      <td>49862.949286</td>\n",
       "    </tr>\n",
       "    <tr>\n",
       "      <th>8</th>\n",
       "      <td>1029</td>\n",
       "      <td>45674.070984</td>\n",
       "    </tr>\n",
       "    <tr>\n",
       "      <th>9</th>\n",
       "      <td>655</td>\n",
       "      <td>45868.590941</td>\n",
       "    </tr>\n",
       "    <tr>\n",
       "      <th>10</th>\n",
       "      <td>17986</td>\n",
       "      <td>77922.276473</td>\n",
       "    </tr>\n",
       "    <tr>\n",
       "      <th>11</th>\n",
       "      <td>7834</td>\n",
       "      <td>49544.924201</td>\n",
       "    </tr>\n",
       "    <tr>\n",
       "      <th>12</th>\n",
       "      <td>683</td>\n",
       "      <td>45739.903356</td>\n",
       "    </tr>\n",
       "    <tr>\n",
       "      <th>13</th>\n",
       "      <td>24</td>\n",
       "      <td>45569.031819</td>\n",
       "    </tr>\n",
       "    <tr>\n",
       "      <th>14</th>\n",
       "      <td>9168</td>\n",
       "      <td>45553.838480</td>\n",
       "    </tr>\n",
       "    <tr>\n",
       "      <th>15</th>\n",
       "      <td>1788</td>\n",
       "      <td>46543.247980</td>\n",
       "    </tr>\n",
       "    <tr>\n",
       "      <th>16</th>\n",
       "      <td>1740</td>\n",
       "      <td>45619.235964</td>\n",
       "    </tr>\n",
       "    <tr>\n",
       "      <th>17</th>\n",
       "      <td>1688</td>\n",
       "      <td>55863.010315</td>\n",
       "    </tr>\n",
       "    <tr>\n",
       "      <th>18</th>\n",
       "      <td>553</td>\n",
       "      <td>45766.489730</td>\n",
       "    </tr>\n",
       "    <tr>\n",
       "      <th>19</th>\n",
       "      <td>1840</td>\n",
       "      <td>48539.886530</td>\n",
       "    </tr>\n",
       "    <tr>\n",
       "      <th>20</th>\n",
       "      <td>585856</td>\n",
       "      <td>49495.179917</td>\n",
       "    </tr>\n",
       "    <tr>\n",
       "      <th>21</th>\n",
       "      <td>4491</td>\n",
       "      <td>45978.255418</td>\n",
       "    </tr>\n",
       "    <tr>\n",
       "      <th>22</th>\n",
       "      <td>44966</td>\n",
       "      <td>57335.491798</td>\n",
       "    </tr>\n",
       "    <tr>\n",
       "      <th>23</th>\n",
       "      <td>147269</td>\n",
       "      <td>46182.092698</td>\n",
       "    </tr>\n",
       "    <tr>\n",
       "      <th>24</th>\n",
       "      <td>1838</td>\n",
       "      <td>55101.339235</td>\n",
       "    </tr>\n",
       "    <tr>\n",
       "      <th>25</th>\n",
       "      <td>13831</td>\n",
       "      <td>50571.857376</td>\n",
       "    </tr>\n",
       "    <tr>\n",
       "      <th>26</th>\n",
       "      <td>61</td>\n",
       "      <td>45464.261061</td>\n",
       "    </tr>\n",
       "    <tr>\n",
       "      <th>27</th>\n",
       "      <td>105</td>\n",
       "      <td>45474.681583</td>\n",
       "    </tr>\n",
       "    <tr>\n",
       "      <th>28</th>\n",
       "      <td>264</td>\n",
       "      <td>45478.176107</td>\n",
       "    </tr>\n",
       "    <tr>\n",
       "      <th>29</th>\n",
       "      <td>9641</td>\n",
       "      <td>45571.123011</td>\n",
       "    </tr>\n",
       "  </tbody>\n",
       "</table>\n",
       "</div>"
      ],
      "text/plain": [
       "    Actual     Predicted\n",
       "0    18581  46864.718124\n",
       "1       55  45446.031428\n",
       "2      218  45555.928153\n",
       "3     1927  49054.036174\n",
       "4      731  46770.250438\n",
       "5    77777  45701.087509\n",
       "6    79805  45978.742147\n",
       "7    63382  49862.949286\n",
       "8     1029  45674.070984\n",
       "9      655  45868.590941\n",
       "10   17986  77922.276473\n",
       "11    7834  49544.924201\n",
       "12     683  45739.903356\n",
       "13      24  45569.031819\n",
       "14    9168  45553.838480\n",
       "15    1788  46543.247980\n",
       "16    1740  45619.235964\n",
       "17    1688  55863.010315\n",
       "18     553  45766.489730\n",
       "19    1840  48539.886530\n",
       "20  585856  49495.179917\n",
       "21    4491  45978.255418\n",
       "22   44966  57335.491798\n",
       "23  147269  46182.092698\n",
       "24    1838  55101.339235\n",
       "25   13831  50571.857376\n",
       "26      61  45464.261061\n",
       "27     105  45474.681583\n",
       "28     264  45478.176107\n",
       "29    9641  45571.123011"
      ]
     },
     "execution_count": 14,
     "metadata": {},
     "output_type": "execute_result"
    }
   ],
   "source": [
    "# Create a dataframe comparing the actual and predicted values of y.\n",
    "data = pd.DataFrame({'Actual': y_test.flatten(), 'Predicted': y_predicted.flatten()})\n",
    "data.head(30)"
   ]
  },
  {
   "cell_type": "markdown",
   "id": "f749ac9d",
   "metadata": {},
   "source": [
    "As expected, the actual and predicted values are too far from being even close to each other. We can't even expect the model to predict better on the train set either."
   ]
  },
  {
   "cell_type": "markdown",
   "id": "6019d831",
   "metadata": {},
   "source": [
    "### Maternal & Child Mortality"
   ]
  },
  {
   "cell_type": "markdown",
   "id": "f52d0a15",
   "metadata": {},
   "source": [
    "#### 01. Preparing Data"
   ]
  },
  {
   "cell_type": "code",
   "execution_count": 15,
   "id": "1e35bea8",
   "metadata": {},
   "outputs": [
    {
     "data": {
      "text/plain": [
       "Index(['Code', 'Year', 'Meningitis', 'Alzheimer's Dis. & Oth.',\n",
       "       'Parkinson's Dis.', 'Nutr. Def.', 'Malaria', 'Drown.', 'Interp. Viol.',\n",
       "       'Mat. Dis.', 'HIV/AIDS', 'Drug Use Dis.', 'Tuberculosis',\n",
       "       'Cardiovascular Dis.', 'Low. Resp. Inf.', 'Neonatal Dis.',\n",
       "       'Alcohol Use Dis.', 'Self-harm', 'Exp. to Forces of Nat.',\n",
       "       'Diarr. Dis.', 'Env. Heat and Cold Exp.', 'Neoplasms',\n",
       "       'Conf. and Terr.', 'Diabetes Mellitus', 'Chr. Kidney Dis.',\n",
       "       'Poisonings', 'Prot.-Ener. Malnutr.', 'Road Inj.', 'Chr. Resp. Dis.',\n",
       "       'Cirr. and Chr. Liver Dis.', 'Digestive Dis.', 'Fire, Heat, Hot Subs.',\n",
       "       'Acute Hep.', 'GDP per capita', 'Population', 'Total GDP', 'Top Cause',\n",
       "       'Underlying Factor', 'Continent', 'Preventable Dis.',\n",
       "       'Preventable Dis.Norm', 'Sudden Ext. Cause', 'Sudden Ext. Cause Norm.',\n",
       "       'Sudden Int. Cause', 'Sudden Int. Cause Norm.', 'GDP Corr.Dis.',\n",
       "       'GDP Corr.Dis.Norm.', 'Infect. Dis.'],\n",
       "      dtype='object')"
      ]
     },
     "execution_count": 15,
     "metadata": {},
     "output_type": "execute_result"
    }
   ],
   "source": [
    "df.columns"
   ]
  },
  {
   "cell_type": "code",
   "execution_count": 16,
   "id": "f2fde69d",
   "metadata": {},
   "outputs": [],
   "source": [
    "# Create column for the infectious diseases\n",
    "sub_mat_chl=['Neonatal Dis.','Mat. Dis.']\n",
    "df['Mat.Chl.']=df[sub_mat_chl].sum(axis=1)"
   ]
  },
  {
   "cell_type": "code",
   "execution_count": 17,
   "id": "1ec5f246",
   "metadata": {},
   "outputs": [
    {
     "data": {
      "text/plain": [
       "0.10700600857659892"
      ]
     },
     "execution_count": 17,
     "metadata": {},
     "output_type": "execute_result"
    }
   ],
   "source": [
    "# Calculate the correlaltion coeficient\n",
    "df['Total GDP'].corr(df['Mat.Chl.'])"
   ]
  },
  {
   "cell_type": "code",
   "execution_count": 33,
   "id": "bf27f8bf",
   "metadata": {},
   "outputs": [
    {
     "data": {
      "image/png": "[encoded data removed]",
      "text/plain": [
       "<Figure size 400x400 with 1 Axes>"
      ]
     },
     "metadata": {},
     "output_type": "display_data"
    },
    {
     "data": {
      "text/plain": [
       "<Figure size 640x480 with 0 Axes>"
      ]
     },
     "metadata": {},
     "output_type": "display_data"
    }
   ],
   "source": [
    "# Display the relationship between dependent infectious diseases and independent total GDP\n",
    "df.plot(x = 'Total GDP', y='Mat.Chl.',style='o',color='yellow')\n",
    "plt.gcf().set_size_inches(4,4)\n",
    "plt.title('Maternal And Child Mortality vs GDP')  \n",
    "plt.xlabel('Total GDP')  \n",
    "plt.ylabel('Maternal & Child Mortality')  \n",
    "plt.show()\n",
    "plt.savefig(\"C:/Users/Zarqa Ayub/Achievement 6/04. Visualisations/Maternal and Child Mortality vs GDP.png\")\n"
   ]
  },
  {
   "cell_type": "markdown",
   "id": "cc2db692",
   "metadata": {},
   "source": [
    "The illustrated scatterplot looks similar to the chart plotted to visualize the relationship between mortality from infectious diseases and total GDP. Additionally, the correlation coefficient of 0.107 points to a weak to no linear relationship. For this reason, I will skip the regression analysis for this dependent variable."
   ]
  },
  {
   "cell_type": "markdown",
   "id": "6dd65dbe",
   "metadata": {},
   "source": [
    "### Age Related Diseases"
   ]
  },
  {
   "cell_type": "markdown",
   "id": "042c71dd",
   "metadata": {},
   "source": [
    "#### 01. Data Preparation"
   ]
  },
  {
   "cell_type": "code",
   "execution_count": 19,
   "id": "0183e0a2",
   "metadata": {},
   "outputs": [],
   "source": [
    "sub_age_related=['Alzheimer\\'s Dis. & Oth.',\n",
    "       'Parkinson\\'s Dis.', 'Cardiovascular Dis.', 'Diabetes Mellitus',\n",
    "        'Chr. Kidney Dis.','Neoplasms','Chr. Resp. Dis.',\n",
    "       'Cirr. and Chr. Liver Dis.']\n",
    "df['Age Related Dis.']=df[sub_age_related].sum(axis=1)"
   ]
  },
  {
   "cell_type": "code",
   "execution_count": 20,
   "id": "5954b54a",
   "metadata": {},
   "outputs": [
    {
     "data": {
      "text/plain": [
       "0.6458365896657502"
      ]
     },
     "execution_count": 20,
     "metadata": {},
     "output_type": "execute_result"
    }
   ],
   "source": [
    "df['Total GDP'].corr(df['Age Related Dis.'])"
   ]
  },
  {
   "cell_type": "code",
   "execution_count": 34,
   "id": "8d33aea5",
   "metadata": {},
   "outputs": [
    {
     "data": {
      "image/png": "[encoded data removed]",
      "text/plain": [
       "<Figure size 400x400 with 1 Axes>"
      ]
     },
     "metadata": {},
     "output_type": "display_data"
    },
    {
     "data": {
      "text/plain": [
       "<Figure size 640x480 with 0 Axes>"
      ]
     },
     "metadata": {},
     "output_type": "display_data"
    }
   ],
   "source": [
    "# Display the relationship between dependent infectious diseases and independent total GDP\n",
    "df.plot(x = 'Total GDP', y='Age Related Dis.',style='o',color='brown')\n",
    "plt.gcf().set_size_inches(4,4)\n",
    "plt.title('Mortality from Age Related Diseases vs GDP')  \n",
    "plt.xlabel('Total GDP')  \n",
    "plt.ylabel('Mortality: Age-Related Diseases')  \n",
    "plt.show()\n",
    "plt.savefig(\"C:/Users/Zarqa Ayub/Achievement 6/04. Visualisations/Mortality from Age related diseases vs GDP.png\")"
   ]
  },
  {
   "cell_type": "markdown",
   "id": "b6f566fd",
   "metadata": {},
   "source": [
    "Both correlation coefficient of 0.64 and ploted chart suggest to a relationship between deaths from the age-related ilnesses and total GDP."
   ]
  },
  {
   "cell_type": "markdown",
   "id": "ead19989",
   "metadata": {},
   "source": [
    "#### 02. Regression Training"
   ]
  },
  {
   "cell_type": "code",
   "execution_count": 22,
   "id": "333e9543",
   "metadata": {},
   "outputs": [],
   "source": [
    "# Reshape the variables into NumPy arrays and put them into separate objects.\n",
    "X_3 = df['Total GDP'].values.reshape(-1,1)\n",
    "y_3 = df['Age Related Dis.'].values.reshape(-1,1)"
   ]
  },
  {
   "cell_type": "code",
   "execution_count": 23,
   "id": "8a1271fb",
   "metadata": {},
   "outputs": [],
   "source": [
    "# Split data into a training set and a test set.\n",
    "X_3_train, X_3_test, y_3_train, y_3_test = train_test_split(X_3, y_3, test_size=0.3, random_state=0) "
   ]
  },
  {
   "cell_type": "code",
   "execution_count": 24,
   "id": "de777a90",
   "metadata": {},
   "outputs": [],
   "source": [
    "# Create a regression object.\n",
    "regression = LinearRegression()"
   ]
  },
  {
   "cell_type": "code",
   "execution_count": 25,
   "id": "c468d867",
   "metadata": {},
   "outputs": [
    {
     "data": {
      "text/html": [
       "<style>#sk-container-id-2 {color: black;}#sk-container-id-2 pre{padding: 0;}#sk-container-id-2 div.sk-toggleable {background-color: white;}#sk-container-id-2 label.sk-toggleable__label {cursor: pointer;display: block;width: 100%;margin-bottom: 0;padding: 0.3em;box-sizing: border-box;text-align: center;}#sk-container-id-2 label.sk-toggleable__label-arrow:before {content: \"▸\";float: left;margin-right: 0.25em;color: #696969;}#sk-container-id-2 label.sk-toggleable__label-arrow:hover:before {color: black;}#sk-container-id-2 div.sk-estimator:hover label.sk-toggleable__label-arrow:before {color: black;}#sk-container-id-2 div.sk-toggleable__content {max-height: 0;max-width: 0;overflow: hidden;text-align: left;background-color: #f0f8ff;}#sk-container-id-2 div.sk-toggleable__content pre {margin: 0.2em;color: black;border-radius: 0.25em;background-color: #f0f8ff;}#sk-container-id-2 input.sk-toggleable__control:checked~div.sk-toggleable__content {max-height: 200px;max-width: 100%;overflow: auto;}#sk-container-id-2 input.sk-toggleable__control:checked~label.sk-toggleable__label-arrow:before {content: \"▾\";}#sk-container-id-2 div.sk-estimator input.sk-toggleable__control:checked~label.sk-toggleable__label {background-color: #d4ebff;}#sk-container-id-2 div.sk-label input.sk-toggleable__control:checked~label.sk-toggleable__label {background-color: #d4ebff;}#sk-container-id-2 input.sk-hidden--visually {border: 0;clip: rect(1px 1px 1px 1px);clip: rect(1px, 1px, 1px, 1px);height: 1px;margin: -1px;overflow: hidden;padding: 0;position: absolute;width: 1px;}#sk-container-id-2 div.sk-estimator {font-family: monospace;background-color: #f0f8ff;border: 1px dotted black;border-radius: 0.25em;box-sizing: border-box;margin-bottom: 0.5em;}#sk-container-id-2 div.sk-estimator:hover {background-color: #d4ebff;}#sk-container-id-2 div.sk-parallel-item::after {content: \"\";width: 100%;border-bottom: 1px solid gray;flex-grow: 1;}#sk-container-id-2 div.sk-label:hover label.sk-toggleable__label {background-color: #d4ebff;}#sk-container-id-2 div.sk-serial::before {content: \"\";position: absolute;border-left: 1px solid gray;box-sizing: border-box;top: 0;bottom: 0;left: 50%;z-index: 0;}#sk-container-id-2 div.sk-serial {display: flex;flex-direction: column;align-items: center;background-color: white;padding-right: 0.2em;padding-left: 0.2em;position: relative;}#sk-container-id-2 div.sk-item {position: relative;z-index: 1;}#sk-container-id-2 div.sk-parallel {display: flex;align-items: stretch;justify-content: center;background-color: white;position: relative;}#sk-container-id-2 div.sk-item::before, #sk-container-id-2 div.sk-parallel-item::before {content: \"\";position: absolute;border-left: 1px solid gray;box-sizing: border-box;top: 0;bottom: 0;left: 50%;z-index: -1;}#sk-container-id-2 div.sk-parallel-item {display: flex;flex-direction: column;z-index: 1;position: relative;background-color: white;}#sk-container-id-2 div.sk-parallel-item:first-child::after {align-self: flex-end;width: 50%;}#sk-container-id-2 div.sk-parallel-item:last-child::after {align-self: flex-start;width: 50%;}#sk-container-id-2 div.sk-parallel-item:only-child::after {width: 0;}#sk-container-id-2 div.sk-dashed-wrapped {border: 1px dashed gray;margin: 0 0.4em 0.5em 0.4em;box-sizing: border-box;padding-bottom: 0.4em;background-color: white;}#sk-container-id-2 div.sk-label label {font-family: monospace;font-weight: bold;display: inline-block;line-height: 1.2em;}#sk-container-id-2 div.sk-label-container {text-align: center;}#sk-container-id-2 div.sk-container {/* jupyter's `normalize.less` sets `[hidden] { display: none; }` but bootstrap.min.css set `[hidden] { display: none !important; }` so we also need the `!important` here to be able to override the default hidden behavior on the sphinx rendered scikit-learn.org. See: https://github.com/scikit-learn/scikit-learn/issues/21755 */display: inline-block !important;position: relative;}#sk-container-id-2 div.sk-text-repr-fallback {display: none;}</style><div id=\"sk-container-id-2\" class=\"sk-top-container\"><div class=\"sk-text-repr-fallback\"><pre>LinearRegression()</pre><b>In a Jupyter environment, please rerun this cell to show the HTML representation or trust the notebook. <br />On GitHub, the HTML representation is unable to render, please try loading this page with nbviewer.org.</b></div><div class=\"sk-container\" hidden><div class=\"sk-item\"><div class=\"sk-estimator sk-toggleable\"><input class=\"sk-toggleable__control sk-hidden--visually\" id=\"sk-estimator-id-2\" type=\"checkbox\" checked><label for=\"sk-estimator-id-2\" class=\"sk-toggleable__label sk-toggleable__label-arrow\">LinearRegression</label><div class=\"sk-toggleable__content\"><pre>LinearRegression()</pre></div></div></div></div></div>"
      ],
      "text/plain": [
       "LinearRegression()"
      ]
     },
     "execution_count": 25,
     "metadata": {},
     "output_type": "execute_result"
    }
   ],
   "source": [
    "# Fit the regression object onto the training set.\n",
    "regression.fit(X_3_train, y_3_train)"
   ]
  },
  {
   "cell_type": "markdown",
   "id": "63a8f552",
   "metadata": {},
   "source": [
    "#### 03. Predicting the testing dependent variable y='Mortality from age-related diseases'"
   ]
  },
  {
   "cell_type": "code",
   "execution_count": 26,
   "id": "b191fb18",
   "metadata": {},
   "outputs": [],
   "source": [
    "# Predict the values of y using X.\n",
    "y_3_predicted = regression.predict(X_3_test)"
   ]
  },
  {
   "cell_type": "code",
   "execution_count": 27,
   "id": "5ebfbeb0",
   "metadata": {},
   "outputs": [
    {
     "data": {
      "image/png": "[encoded data removed]",
      "text/plain": [
       "<Figure size 400x400 with 1 Axes>"
      ]
     },
     "metadata": {},
     "output_type": "display_data"
    },
    {
     "data": {
      "text/plain": [
       "<Figure size 640x480 with 0 Axes>"
      ]
     },
     "metadata": {},
     "output_type": "display_data"
    }
   ],
   "source": [
    "# Create a plot that shows the regression line from the model on the test set.\n",
    "plot_test = plt\n",
    "plot_test.scatter(X_3_test, y_3_test, color='black', s = 15)\n",
    "plot_test.plot(X_test, y_predicted, color='black', linewidth =2)\n",
    "plt.gcf().set_size_inches(4,4)\n",
    "plot_test.title('Mortality from Age-related Diseases vs GDP (Test set)')\n",
    "plot_test.xlabel('Total GDP')\n",
    "plot_test.ylabel('Mortality: Age-related Dis.')\n",
    "plot_test.show()\n",
    "plt.savefig(\"C:/Users/Zarqa Ayub/Achievement 6/04. Visualisations/Mortality from Age related diseases vs GDP.png\")"
   ]
  },
  {
   "cell_type": "code",
   "execution_count": 28,
   "id": "e83f1e75",
   "metadata": {},
   "outputs": [
    {
     "name": "stdout",
     "output_type": "stream",
     "text": [
      "Slope: [[3.2666322e-07]]\n",
      "Mean squared error:  116430486794.22928\n",
      "R2 score:  -0.05878797561491811\n"
     ]
    }
   ],
   "source": [
    "# Create objects that contain the model summary statistics.\n",
    "rmse = mean_squared_error(y_3_test, y_3_predicted) \n",
    "r2 = r2_score(y_3_test, y_3_predicted)\n",
    "\n",
    "# Print the model summary statistics. \n",
    "print('Slope:' ,regression.coef_)\n",
    "print('Mean squared error: ', rmse)\n",
    "print('R2 score: ', r2)"
   ]
  },
  {
   "cell_type": "markdown",
   "id": "febaa49c",
   "metadata": {},
   "source": [
    "We have a positive coeficient of the independent variable suggesting that for every one unit increase in GDP, the mortality also increases by 3.27x10(7). The high result of the mean squared error implies that the predicted values deviate significantly from the actual values. And third, the negatife R2 score points to a bad performing model."
   ]
  },
  {
   "cell_type": "code",
   "execution_count": 29,
   "id": "b449e420",
   "metadata": {},
   "outputs": [
    {
     "data": {
      "text/html": [
       "<div>\n",
       "<style scoped>\n",
       "    .dataframe tbody tr th:only-of-type {\n",
       "        vertical-align: middle;\n",
       "    }\n",
       "\n",
       "    .dataframe tbody tr th {\n",
       "        vertical-align: top;\n",
       "    }\n",
       "\n",
       "    .dataframe thead th {\n",
       "        text-align: right;\n",
       "    }\n",
       "</style>\n",
       "<table border=\"1\" class=\"dataframe\">\n",
       "  <thead>\n",
       "    <tr style=\"text-align: right;\">\n",
       "      <th></th>\n",
       "      <th>Actual</th>\n",
       "      <th>Predicted</th>\n",
       "    </tr>\n",
       "  </thead>\n",
       "  <tbody>\n",
       "    <tr>\n",
       "      <th>0</th>\n",
       "      <td>45632</td>\n",
       "      <td>88016.973161</td>\n",
       "    </tr>\n",
       "    <tr>\n",
       "      <th>1</th>\n",
       "      <td>254</td>\n",
       "      <td>67759.981116</td>\n",
       "    </tr>\n",
       "    <tr>\n",
       "      <th>2</th>\n",
       "      <td>2200</td>\n",
       "      <td>69329.162739</td>\n",
       "    </tr>\n",
       "    <tr>\n",
       "      <th>3</th>\n",
       "      <td>117375</td>\n",
       "      <td>119277.573860</td>\n",
       "    </tr>\n",
       "    <tr>\n",
       "      <th>4</th>\n",
       "      <td>44102</td>\n",
       "      <td>86668.098060</td>\n",
       "    </tr>\n",
       "    <tr>\n",
       "      <th>5</th>\n",
       "      <td>55504</td>\n",
       "      <td>71401.848638</td>\n",
       "    </tr>\n",
       "    <tr>\n",
       "      <th>6</th>\n",
       "      <td>31163</td>\n",
       "      <td>75366.394024</td>\n",
       "    </tr>\n",
       "    <tr>\n",
       "      <th>7</th>\n",
       "      <td>442705</td>\n",
       "      <td>130827.795988</td>\n",
       "    </tr>\n",
       "    <tr>\n",
       "      <th>8</th>\n",
       "      <td>23948</td>\n",
       "      <td>71016.087974</td>\n",
       "    </tr>\n",
       "    <tr>\n",
       "      <th>9</th>\n",
       "      <td>31756</td>\n",
       "      <td>73793.578758</td>\n",
       "    </tr>\n",
       "    <tr>\n",
       "      <th>10</th>\n",
       "      <td>356630</td>\n",
       "      <td>531478.319540</td>\n",
       "    </tr>\n",
       "    <tr>\n",
       "      <th>11</th>\n",
       "      <td>110439</td>\n",
       "      <td>126286.813379</td>\n",
       "    </tr>\n",
       "    <tr>\n",
       "      <th>12</th>\n",
       "      <td>19526</td>\n",
       "      <td>71956.088213</td>\n",
       "    </tr>\n",
       "    <tr>\n",
       "      <th>13</th>\n",
       "      <td>400</td>\n",
       "      <td>69516.265958</td>\n",
       "    </tr>\n",
       "    <tr>\n",
       "      <th>14</th>\n",
       "      <td>3784</td>\n",
       "      <td>69299.324930</td>\n",
       "    </tr>\n",
       "    <tr>\n",
       "      <th>15</th>\n",
       "      <td>27109</td>\n",
       "      <td>83426.799612</td>\n",
       "    </tr>\n",
       "    <tr>\n",
       "      <th>16</th>\n",
       "      <td>38170</td>\n",
       "      <td>70233.115542</td>\n",
       "    </tr>\n",
       "    <tr>\n",
       "      <th>17</th>\n",
       "      <td>70791</td>\n",
       "      <td>216500.826436</td>\n",
       "    </tr>\n",
       "    <tr>\n",
       "      <th>18</th>\n",
       "      <td>8957</td>\n",
       "      <td>72335.706894</td>\n",
       "    </tr>\n",
       "    <tr>\n",
       "      <th>19</th>\n",
       "      <td>111807</td>\n",
       "      <td>111936.188843</td>\n",
       "    </tr>\n",
       "    <tr>\n",
       "      <th>20</th>\n",
       "      <td>612709</td>\n",
       "      <td>125576.530012</td>\n",
       "    </tr>\n",
       "    <tr>\n",
       "      <th>21</th>\n",
       "      <td>25327</td>\n",
       "      <td>75359.444174</td>\n",
       "    </tr>\n",
       "    <tr>\n",
       "      <th>22</th>\n",
       "      <td>252905</td>\n",
       "      <td>237525.937741</td>\n",
       "    </tr>\n",
       "    <tr>\n",
       "      <th>23</th>\n",
       "      <td>62294</td>\n",
       "      <td>78269.974144</td>\n",
       "    </tr>\n",
       "    <tr>\n",
       "      <th>24</th>\n",
       "      <td>17827</td>\n",
       "      <td>205625.158790</td>\n",
       "    </tr>\n",
       "    <tr>\n",
       "      <th>25</th>\n",
       "      <td>124426</td>\n",
       "      <td>140950.077089</td>\n",
       "    </tr>\n",
       "    <tr>\n",
       "      <th>26</th>\n",
       "      <td>308</td>\n",
       "      <td>68020.276451</td>\n",
       "    </tr>\n",
       "    <tr>\n",
       "      <th>27</th>\n",
       "      <td>538</td>\n",
       "      <td>68169.067890</td>\n",
       "    </tr>\n",
       "    <tr>\n",
       "      <th>28</th>\n",
       "      <td>932</td>\n",
       "      <td>68218.965120</td>\n",
       "    </tr>\n",
       "    <tr>\n",
       "      <th>29</th>\n",
       "      <td>29794</td>\n",
       "      <td>69546.125452</td>\n",
       "    </tr>\n",
       "  </tbody>\n",
       "</table>\n",
       "</div>"
      ],
      "text/plain": [
       "    Actual      Predicted\n",
       "0    45632   88016.973161\n",
       "1      254   67759.981116\n",
       "2     2200   69329.162739\n",
       "3   117375  119277.573860\n",
       "4    44102   86668.098060\n",
       "5    55504   71401.848638\n",
       "6    31163   75366.394024\n",
       "7   442705  130827.795988\n",
       "8    23948   71016.087974\n",
       "9    31756   73793.578758\n",
       "10  356630  531478.319540\n",
       "11  110439  126286.813379\n",
       "12   19526   71956.088213\n",
       "13     400   69516.265958\n",
       "14    3784   69299.324930\n",
       "15   27109   83426.799612\n",
       "16   38170   70233.115542\n",
       "17   70791  216500.826436\n",
       "18    8957   72335.706894\n",
       "19  111807  111936.188843\n",
       "20  612709  125576.530012\n",
       "21   25327   75359.444174\n",
       "22  252905  237525.937741\n",
       "23   62294   78269.974144\n",
       "24   17827  205625.158790\n",
       "25  124426  140950.077089\n",
       "26     308   68020.276451\n",
       "27     538   68169.067890\n",
       "28     932   68218.965120\n",
       "29   29794   69546.125452"
      ]
     },
     "execution_count": 29,
     "metadata": {},
     "output_type": "execute_result"
    }
   ],
   "source": [
    "# Create a dataframe comparing the actual and predicted values of y.\n",
    "data_3 = pd.DataFrame({'Actual': y_3_test.flatten(), 'Predicted': y_3_predicted.flatten()})\n",
    "data_3.head(30)"
   ]
  },
  {
   "cell_type": "markdown",
   "id": "81c310be",
   "metadata": {},
   "source": [
    "### Conclusion"
   ]
  },
  {
   "cell_type": "markdown",
   "id": "c9a3588e",
   "metadata": {},
   "source": [
    "The hypothesis set at the beginning couldn't be proven either right or wrong. The most appropriate conclusion to make is that the linear regression is not a good fit to explain the correlation between GDP and different causes of death. Additionaly, while it's known that there is a intercorrelation between the two variables, the GDP alone is not enough to use as a single independent to predict the future deaths. The results highlight the limitaion and challenges of using the linear regresion to model the relationship between GDP and mortality."
   ]
  },
  {
   "cell_type": "code",
   "execution_count": 30,
   "id": "3defebfe",
   "metadata": {},
   "outputs": [],
   "source": [
    "# export Data frame\n",
    "df.to_csv(os.path.join(path,'02. data','Prepared data','df_col_sum.csv'))"
   ]
  },
  {
   "cell_type": "code",
   "execution_count": null,
   "id": "e120e55d",
   "metadata": {},
   "outputs": [],
   "source": []
  }
 ],
 "metadata": {
  "kernelspec": {
   "display_name": "Python 3 (ipykernel)",
   "language": "python",
   "name": "python3"
  },
  "language_info": {
   "codemirror_mode": {
    "name": "ipython",
    "version": 3
   },
   "file_extension": ".py",
   "mimetype": "text/x-python",
   "name": "python",
   "nbconvert_exporter": "python",
   "pygments_lexer": "ipython3",
   "version": "3.11.5"
  }
 },
 "nbformat": 4,
 "nbformat_minor": 5
}
