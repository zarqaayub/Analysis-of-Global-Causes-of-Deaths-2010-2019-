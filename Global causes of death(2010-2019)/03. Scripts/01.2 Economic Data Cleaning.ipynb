{
 "cells": [
  {
   "cell_type": "code",
   "execution_count": 1,
   "id": "a45bc3b1",
   "metadata": {},
   "outputs": [],
   "source": [
    "# import libraries\n",
    "import pandas as pd \n",
    "import numpy as np\n",
    "import os\n",
    "import matplotlib\n",
    "import matplotlib.pyplot as plt\n",
    "import seaborn as sns"
   ]
  },
  {
   "cell_type": "code",
   "execution_count": 2,
   "id": "12f5484a",
   "metadata": {},
   "outputs": [
    {
     "data": {
      "text/html": [
       "<div>\n",
       "<style scoped>\n",
       "    .dataframe tbody tr th:only-of-type {\n",
       "        vertical-align: middle;\n",
       "    }\n",
       "\n",
       "    .dataframe tbody tr th {\n",
       "        vertical-align: top;\n",
       "    }\n",
       "\n",
       "    .dataframe thead th {\n",
       "        text-align: right;\n",
       "    }\n",
       "</style>\n",
       "<table border=\"1\" class=\"dataframe\">\n",
       "  <thead>\n",
       "    <tr style=\"text-align: right;\">\n",
       "      <th></th>\n",
       "      <th>Country Name</th>\n",
       "      <th>Country Code</th>\n",
       "      <th>year</th>\n",
       "      <th>GDP per capita (current US$)</th>\n",
       "      <th>Population, total</th>\n",
       "    </tr>\n",
       "  </thead>\n",
       "  <tbody>\n",
       "    <tr>\n",
       "      <th>0</th>\n",
       "      <td>Afghanistan</td>\n",
       "      <td>AFG</td>\n",
       "      <td>1960</td>\n",
       "      <td>59.773194</td>\n",
       "      <td>8996973.0</td>\n",
       "    </tr>\n",
       "    <tr>\n",
       "      <th>1</th>\n",
       "      <td>Afghanistan</td>\n",
       "      <td>AFG</td>\n",
       "      <td>1961</td>\n",
       "      <td>59.860874</td>\n",
       "      <td>9169410.0</td>\n",
       "    </tr>\n",
       "    <tr>\n",
       "      <th>2</th>\n",
       "      <td>Afghanistan</td>\n",
       "      <td>AFG</td>\n",
       "      <td>1962</td>\n",
       "      <td>58.458015</td>\n",
       "      <td>9351441.0</td>\n",
       "    </tr>\n",
       "    <tr>\n",
       "      <th>3</th>\n",
       "      <td>Afghanistan</td>\n",
       "      <td>AFG</td>\n",
       "      <td>1963</td>\n",
       "      <td>78.706388</td>\n",
       "      <td>9543205.0</td>\n",
       "    </tr>\n",
       "    <tr>\n",
       "      <th>4</th>\n",
       "      <td>Afghanistan</td>\n",
       "      <td>AFG</td>\n",
       "      <td>1964</td>\n",
       "      <td>82.095231</td>\n",
       "      <td>9744781.0</td>\n",
       "    </tr>\n",
       "  </tbody>\n",
       "</table>\n",
       "</div>"
      ],
      "text/plain": [
       "  Country Name Country Code  year  GDP per capita (current US$)  \\\n",
       "0  Afghanistan          AFG  1960                     59.773194   \n",
       "1  Afghanistan          AFG  1961                     59.860874   \n",
       "2  Afghanistan          AFG  1962                     58.458015   \n",
       "3  Afghanistan          AFG  1963                     78.706388   \n",
       "4  Afghanistan          AFG  1964                     82.095231   \n",
       "\n",
       "   Population, total  \n",
       "0          8996973.0  \n",
       "1          9169410.0  \n",
       "2          9351441.0  \n",
       "3          9543205.0  \n",
       "4          9744781.0  "
      ]
     },
     "execution_count": 2,
     "metadata": {},
     "output_type": "execute_result"
    }
   ],
   "source": [
    "columns_to_import = ['Country Name','Country Code','year','GDP per capita (current US$)','Population, total']\n",
    "\n",
    "path=r'C:\\Users\\Zarqa Ayub\\Achievement 6'\n",
    "\n",
    "# Read the entire dataset\n",
    "full_dataset = pd.read_csv(os.path.join(path,'02. data','original data','economic_data.csv'))  \n",
    "\n",
    "# Select only the desired columns\n",
    "df = full_dataset[columns_to_import]\n",
    "\n",
    "# Display the resulting DataFrame\n",
    "df.head()"
   ]
  },
  {
   "cell_type": "code",
   "execution_count": 3,
   "id": "106d09a4",
   "metadata": {},
   "outputs": [
    {
     "data": {
      "text/plain": [
       "(16104, 5)"
      ]
     },
     "execution_count": 3,
     "metadata": {},
     "output_type": "execute_result"
    }
   ],
   "source": [
    "df.shape"
   ]
  },
  {
   "cell_type": "code",
   "execution_count": 5,
   "id": "5129ec96",
   "metadata": {},
   "outputs": [
    {
     "data": {
      "text/html": [
       "<div>\n",
       "<style scoped>\n",
       "    .dataframe tbody tr th:only-of-type {\n",
       "        vertical-align: middle;\n",
       "    }\n",
       "\n",
       "    .dataframe tbody tr th {\n",
       "        vertical-align: top;\n",
       "    }\n",
       "\n",
       "    .dataframe thead th {\n",
       "        text-align: right;\n",
       "    }\n",
       "</style>\n",
       "<table border=\"1\" class=\"dataframe\">\n",
       "  <thead>\n",
       "    <tr style=\"text-align: right;\">\n",
       "      <th></th>\n",
       "      <th>Country Name</th>\n",
       "      <th>Country Code</th>\n",
       "      <th>year</th>\n",
       "      <th>GDP per capita (current US$)</th>\n",
       "      <th>Population, total</th>\n",
       "    </tr>\n",
       "  </thead>\n",
       "  <tbody>\n",
       "    <tr>\n",
       "      <th>50</th>\n",
       "      <td>Afghanistan</td>\n",
       "      <td>AFG</td>\n",
       "      <td>2010</td>\n",
       "      <td>543.303042</td>\n",
       "      <td>29185507.0</td>\n",
       "    </tr>\n",
       "    <tr>\n",
       "      <th>51</th>\n",
       "      <td>Afghanistan</td>\n",
       "      <td>AFG</td>\n",
       "      <td>2011</td>\n",
       "      <td>591.162759</td>\n",
       "      <td>30117413.0</td>\n",
       "    </tr>\n",
       "    <tr>\n",
       "      <th>52</th>\n",
       "      <td>Afghanistan</td>\n",
       "      <td>AFG</td>\n",
       "      <td>2012</td>\n",
       "      <td>641.871479</td>\n",
       "      <td>31161376.0</td>\n",
       "    </tr>\n",
       "    <tr>\n",
       "      <th>53</th>\n",
       "      <td>Afghanistan</td>\n",
       "      <td>AFG</td>\n",
       "      <td>2013</td>\n",
       "      <td>637.165523</td>\n",
       "      <td>32269589.0</td>\n",
       "    </tr>\n",
       "    <tr>\n",
       "      <th>54</th>\n",
       "      <td>Afghanistan</td>\n",
       "      <td>AFG</td>\n",
       "      <td>2014</td>\n",
       "      <td>613.856689</td>\n",
       "      <td>33370794.0</td>\n",
       "    </tr>\n",
       "    <tr>\n",
       "      <th>...</th>\n",
       "      <td>...</td>\n",
       "      <td>...</td>\n",
       "      <td>...</td>\n",
       "      <td>...</td>\n",
       "      <td>...</td>\n",
       "    </tr>\n",
       "    <tr>\n",
       "      <th>16098</th>\n",
       "      <td>Zimbabwe</td>\n",
       "      <td>ZWE</td>\n",
       "      <td>2015</td>\n",
       "      <td>1445.071062</td>\n",
       "      <td>13814629.0</td>\n",
       "    </tr>\n",
       "    <tr>\n",
       "      <th>16099</th>\n",
       "      <td>Zimbabwe</td>\n",
       "      <td>ZWE</td>\n",
       "      <td>2016</td>\n",
       "      <td>1464.583529</td>\n",
       "      <td>14030390.0</td>\n",
       "    </tr>\n",
       "    <tr>\n",
       "      <th>16100</th>\n",
       "      <td>Zimbabwe</td>\n",
       "      <td>ZWE</td>\n",
       "      <td>2017</td>\n",
       "      <td>1548.170056</td>\n",
       "      <td>14236745.0</td>\n",
       "    </tr>\n",
       "    <tr>\n",
       "      <th>16101</th>\n",
       "      <td>Zimbabwe</td>\n",
       "      <td>ZWE</td>\n",
       "      <td>2018</td>\n",
       "      <td>1683.740577</td>\n",
       "      <td>14439018.0</td>\n",
       "    </tr>\n",
       "    <tr>\n",
       "      <th>16102</th>\n",
       "      <td>Zimbabwe</td>\n",
       "      <td>ZWE</td>\n",
       "      <td>2019</td>\n",
       "      <td>1463.985910</td>\n",
       "      <td>14645468.0</td>\n",
       "    </tr>\n",
       "  </tbody>\n",
       "</table>\n",
       "<p>2640 rows × 5 columns</p>\n",
       "</div>"
      ],
      "text/plain": [
       "      Country Name Country Code  year  GDP per capita (current US$)  \\\n",
       "50     Afghanistan          AFG  2010                    543.303042   \n",
       "51     Afghanistan          AFG  2011                    591.162759   \n",
       "52     Afghanistan          AFG  2012                    641.871479   \n",
       "53     Afghanistan          AFG  2013                    637.165523   \n",
       "54     Afghanistan          AFG  2014                    613.856689   \n",
       "...            ...          ...   ...                           ...   \n",
       "16098     Zimbabwe          ZWE  2015                   1445.071062   \n",
       "16099     Zimbabwe          ZWE  2016                   1464.583529   \n",
       "16100     Zimbabwe          ZWE  2017                   1548.170056   \n",
       "16101     Zimbabwe          ZWE  2018                   1683.740577   \n",
       "16102     Zimbabwe          ZWE  2019                   1463.985910   \n",
       "\n",
       "       Population, total  \n",
       "50            29185507.0  \n",
       "51            30117413.0  \n",
       "52            31161376.0  \n",
       "53            32269589.0  \n",
       "54            33370794.0  \n",
       "...                  ...  \n",
       "16098         13814629.0  \n",
       "16099         14030390.0  \n",
       "16100         14236745.0  \n",
       "16101         14439018.0  \n",
       "16102         14645468.0  \n",
       "\n",
       "[2640 rows x 5 columns]"
      ]
     },
     "execution_count": 5,
     "metadata": {},
     "output_type": "execute_result"
    }
   ],
   "source": [
    "# filter the rows to include only 2010-2019 years\n",
    "df_filter=df[(df['year']>2009) & (df['year']<2020)]\n",
    "df_filter"
   ]
  },
  {
   "cell_type": "code",
   "execution_count": 6,
   "id": "ea57c4f4",
   "metadata": {},
   "outputs": [
    {
     "data": {
      "text/plain": [
       "array([2010, 2011, 2012, 2013, 2014, 2015, 2016, 2017, 2018, 2019],\n",
       "      dtype=int64)"
      ]
     },
     "execution_count": 6,
     "metadata": {},
     "output_type": "execute_result"
    }
   ],
   "source": [
    "# check the years\n",
    "df_filter['year'].unique()"
   ]
  },
  {
   "cell_type": "code",
   "execution_count": 7,
   "id": "d3345941",
   "metadata": {},
   "outputs": [
    {
     "name": "stderr",
     "output_type": "stream",
     "text": [
      "C:\\Users\\Zarqa Ayub\\AppData\\Local\\Temp\\ipykernel_9820\\2946926030.py:2: SettingWithCopyWarning: \n",
      "A value is trying to be set on a copy of a slice from a DataFrame\n",
      "\n",
      "See the caveats in the documentation: https://pandas.pydata.org/pandas-docs/stable/user_guide/indexing.html#returning-a-view-versus-a-copy\n",
      "  df_filter.rename(columns={\n"
     ]
    }
   ],
   "source": [
    "# rename columns for consistency for merging dataframes\n",
    "df_filter.rename(columns={\n",
    "    'Country Name':'Country',\n",
    "    'Country Code':'Code',\n",
    "    'year':'Year',\n",
    "    'GDP per capita (current US$)':'GDP per capita',\n",
    "    'Population, total':'Population'\n",
    "},inplace=True)"
   ]
  },
  {
   "cell_type": "markdown",
   "id": "90513169",
   "metadata": {},
   "source": [
    "### Exploratory Data Analysis"
   ]
  },
  {
   "cell_type": "code",
   "execution_count": 8,
   "id": "ae323433",
   "metadata": {},
   "outputs": [
    {
     "name": "stdout",
     "output_type": "stream",
     "text": [
      "<class 'pandas.core.frame.DataFrame'>\n",
      "Index: 2640 entries, 50 to 16102\n",
      "Data columns (total 5 columns):\n",
      " #   Column          Non-Null Count  Dtype  \n",
      "---  ------          --------------  -----  \n",
      " 0   Country         2640 non-null   object \n",
      " 1   Code            2640 non-null   object \n",
      " 2   Year            2640 non-null   int64  \n",
      " 3   GDP per capita  2472 non-null   float64\n",
      " 4   Population      2622 non-null   float64\n",
      "dtypes: float64(2), int64(1), object(2)\n",
      "memory usage: 123.8+ KB\n"
     ]
    }
   ],
   "source": [
    "df_filter.info()"
   ]
  },
  {
   "cell_type": "code",
   "execution_count": 9,
   "id": "9d7a0196",
   "metadata": {},
   "outputs": [
    {
     "data": {
      "text/html": [
       "<div>\n",
       "<style scoped>\n",
       "    .dataframe tbody tr th:only-of-type {\n",
       "        vertical-align: middle;\n",
       "    }\n",
       "\n",
       "    .dataframe tbody tr th {\n",
       "        vertical-align: top;\n",
       "    }\n",
       "\n",
       "    .dataframe thead th {\n",
       "        text-align: right;\n",
       "    }\n",
       "</style>\n",
       "<table border=\"1\" class=\"dataframe\">\n",
       "  <thead>\n",
       "    <tr style=\"text-align: right;\">\n",
       "      <th></th>\n",
       "      <th>Country</th>\n",
       "      <th>Code</th>\n",
       "      <th>Year</th>\n",
       "      <th>GDP per capita</th>\n",
       "      <th>Population</th>\n",
       "    </tr>\n",
       "  </thead>\n",
       "  <tbody>\n",
       "    <tr>\n",
       "      <th>242</th>\n",
       "      <td>American Samoa</td>\n",
       "      <td>ASM</td>\n",
       "      <td>2019</td>\n",
       "      <td>NaN</td>\n",
       "      <td>55312.0</td>\n",
       "    </tr>\n",
       "    <tr>\n",
       "      <th>668</th>\n",
       "      <td>Aruba</td>\n",
       "      <td>ABW</td>\n",
       "      <td>2018</td>\n",
       "      <td>NaN</td>\n",
       "      <td>105845.0</td>\n",
       "    </tr>\n",
       "    <tr>\n",
       "      <th>669</th>\n",
       "      <td>Aruba</td>\n",
       "      <td>ABW</td>\n",
       "      <td>2019</td>\n",
       "      <td>NaN</td>\n",
       "      <td>106314.0</td>\n",
       "    </tr>\n",
       "    <tr>\n",
       "      <th>1396</th>\n",
       "      <td>Bermuda</td>\n",
       "      <td>BMU</td>\n",
       "      <td>2014</td>\n",
       "      <td>NaN</td>\n",
       "      <td>65138.0</td>\n",
       "    </tr>\n",
       "    <tr>\n",
       "      <th>1397</th>\n",
       "      <td>Bermuda</td>\n",
       "      <td>BMU</td>\n",
       "      <td>2015</td>\n",
       "      <td>NaN</td>\n",
       "      <td>65237.0</td>\n",
       "    </tr>\n",
       "    <tr>\n",
       "      <th>...</th>\n",
       "      <td>...</td>\n",
       "      <td>...</td>\n",
       "      <td>...</td>\n",
       "      <td>...</td>\n",
       "      <td>...</td>\n",
       "    </tr>\n",
       "    <tr>\n",
       "      <th>15675</th>\n",
       "      <td>Venezuela, RB</td>\n",
       "      <td>VEN</td>\n",
       "      <td>2019</td>\n",
       "      <td>NaN</td>\n",
       "      <td>28515829.0</td>\n",
       "    </tr>\n",
       "    <tr>\n",
       "      <th>15796</th>\n",
       "      <td>Virgin Islands (U.S.)</td>\n",
       "      <td>VIR</td>\n",
       "      <td>2018</td>\n",
       "      <td>NaN</td>\n",
       "      <td>106977.0</td>\n",
       "    </tr>\n",
       "    <tr>\n",
       "      <th>15797</th>\n",
       "      <td>Virgin Islands (U.S.)</td>\n",
       "      <td>VIR</td>\n",
       "      <td>2019</td>\n",
       "      <td>NaN</td>\n",
       "      <td>106631.0</td>\n",
       "    </tr>\n",
       "    <tr>\n",
       "      <th>15858</th>\n",
       "      <td>West Bank and Gaza</td>\n",
       "      <td>PSE</td>\n",
       "      <td>2019</td>\n",
       "      <td>NaN</td>\n",
       "      <td>4685306.0</td>\n",
       "    </tr>\n",
       "    <tr>\n",
       "      <th>15980</th>\n",
       "      <td>Yemen, Rep.</td>\n",
       "      <td>YEM</td>\n",
       "      <td>2019</td>\n",
       "      <td>NaN</td>\n",
       "      <td>29161922.0</td>\n",
       "    </tr>\n",
       "  </tbody>\n",
       "</table>\n",
       "<p>168 rows × 5 columns</p>\n",
       "</div>"
      ],
      "text/plain": [
       "                     Country Code  Year  GDP per capita  Population\n",
       "242           American Samoa  ASM  2019             NaN     55312.0\n",
       "668                    Aruba  ABW  2018             NaN    105845.0\n",
       "669                    Aruba  ABW  2019             NaN    106314.0\n",
       "1396                 Bermuda  BMU  2014             NaN     65138.0\n",
       "1397                 Bermuda  BMU  2015             NaN     65237.0\n",
       "...                      ...  ...   ...             ...         ...\n",
       "15675          Venezuela, RB  VEN  2019             NaN  28515829.0\n",
       "15796  Virgin Islands (U.S.)  VIR  2018             NaN    106977.0\n",
       "15797  Virgin Islands (U.S.)  VIR  2019             NaN    106631.0\n",
       "15858     West Bank and Gaza  PSE  2019             NaN   4685306.0\n",
       "15980            Yemen, Rep.  YEM  2019             NaN  29161922.0\n",
       "\n",
       "[168 rows x 5 columns]"
      ]
     },
     "execution_count": 9,
     "metadata": {},
     "output_type": "execute_result"
    }
   ],
   "source": [
    "# Filter rows with missing data\n",
    "rows_with_missing_data = df_filter[df_filter.isnull().any(axis=1)]\n",
    "rows_with_missing_data"
   ]
  },
  {
   "cell_type": "code",
   "execution_count": 10,
   "id": "57e64dfe",
   "metadata": {},
   "outputs": [
    {
     "data": {
      "text/plain": [
       "Country           0\n",
       "Code              0\n",
       "Year              0\n",
       "GDP per capita    0\n",
       "Population        0\n",
       "dtype: int64"
      ]
     },
     "execution_count": 10,
     "metadata": {},
     "output_type": "execute_result"
    }
   ],
   "source": [
    "# Drop NaN rows\n",
    "df_cleaned = df_filter.dropna()\n",
    "df_cleaned.isnull().sum()"
   ]
  },
  {
   "cell_type": "code",
   "execution_count": 11,
   "id": "f30b2c07",
   "metadata": {},
   "outputs": [
    {
     "data": {
      "text/plain": [
       "(2472, 5)"
      ]
     },
     "execution_count": 11,
     "metadata": {},
     "output_type": "execute_result"
    }
   ],
   "source": [
    "df_cleaned.shape"
   ]
  },
  {
   "cell_type": "markdown",
   "id": "16f8a7e0",
   "metadata": {},
   "source": [
    "##### Join the dataframes on the 'Code' column, because the country names may be written slightly different"
   ]
  },
  {
   "cell_type": "code",
   "execution_count": 12,
   "id": "c7841142",
   "metadata": {},
   "outputs": [
    {
     "data": {
      "text/html": [
       "<div>\n",
       "<style scoped>\n",
       "    .dataframe tbody tr th:only-of-type {\n",
       "        vertical-align: middle;\n",
       "    }\n",
       "\n",
       "    .dataframe tbody tr th {\n",
       "        vertical-align: top;\n",
       "    }\n",
       "\n",
       "    .dataframe thead th {\n",
       "        text-align: right;\n",
       "    }\n",
       "</style>\n",
       "<table border=\"1\" class=\"dataframe\">\n",
       "  <thead>\n",
       "    <tr style=\"text-align: right;\">\n",
       "      <th></th>\n",
       "      <th>Code</th>\n",
       "      <th>Year</th>\n",
       "      <th>GDP per capita</th>\n",
       "      <th>Population</th>\n",
       "    </tr>\n",
       "  </thead>\n",
       "  <tbody>\n",
       "    <tr>\n",
       "      <th>50</th>\n",
       "      <td>AFG</td>\n",
       "      <td>2010</td>\n",
       "      <td>543.303042</td>\n",
       "      <td>29185507.0</td>\n",
       "    </tr>\n",
       "    <tr>\n",
       "      <th>51</th>\n",
       "      <td>AFG</td>\n",
       "      <td>2011</td>\n",
       "      <td>591.162759</td>\n",
       "      <td>30117413.0</td>\n",
       "    </tr>\n",
       "    <tr>\n",
       "      <th>52</th>\n",
       "      <td>AFG</td>\n",
       "      <td>2012</td>\n",
       "      <td>641.871479</td>\n",
       "      <td>31161376.0</td>\n",
       "    </tr>\n",
       "    <tr>\n",
       "      <th>53</th>\n",
       "      <td>AFG</td>\n",
       "      <td>2013</td>\n",
       "      <td>637.165523</td>\n",
       "      <td>32269589.0</td>\n",
       "    </tr>\n",
       "    <tr>\n",
       "      <th>54</th>\n",
       "      <td>AFG</td>\n",
       "      <td>2014</td>\n",
       "      <td>613.856689</td>\n",
       "      <td>33370794.0</td>\n",
       "    </tr>\n",
       "  </tbody>\n",
       "</table>\n",
       "</div>"
      ],
      "text/plain": [
       "   Code  Year  GDP per capita  Population\n",
       "50  AFG  2010      543.303042  29185507.0\n",
       "51  AFG  2011      591.162759  30117413.0\n",
       "52  AFG  2012      641.871479  31161376.0\n",
       "53  AFG  2013      637.165523  32269589.0\n",
       "54  AFG  2014      613.856689  33370794.0"
      ]
     },
     "execution_count": 12,
     "metadata": {},
     "output_type": "execute_result"
    }
   ],
   "source": [
    "# Drop 'Country' column\n",
    "df_cleaned=df_cleaned.drop('Country', axis=1)\n",
    "df_cleaned.head()"
   ]
  },
  {
   "cell_type": "code",
   "execution_count": 13,
   "id": "b7c48591",
   "metadata": {},
   "outputs": [
    {
     "data": {
      "text/plain": [
       "False    2472\n",
       "Name: count, dtype: int64"
      ]
     },
     "execution_count": 13,
     "metadata": {},
     "output_type": "execute_result"
    }
   ],
   "source": [
    "# Look for duplicates\n",
    "df_cleaned.duplicated().value_counts()"
   ]
  },
  {
   "cell_type": "code",
   "execution_count": 14,
   "id": "7b139b5d",
   "metadata": {},
   "outputs": [],
   "source": [
    "# Save cleaned data frame\n",
    "df_cleaned.to_csv(os.path.join(path,'02. data','prepared data','economic_data_cleaned.csv'))\n",
    " "
   ]
  },
  {
   "cell_type": "code",
   "execution_count": null,
   "id": "833c7629",
   "metadata": {},
   "outputs": [],
   "source": []
  }
 ],
 "metadata": {
  "kernelspec": {
   "display_name": "Python 3 (ipykernel)",
   "language": "python",
   "name": "python3"
  },
  "language_info": {
   "codemirror_mode": {
    "name": "ipython",
    "version": 3
   },
   "file_extension": ".py",
   "mimetype": "text/x-python",
   "name": "python",
   "nbconvert_exporter": "python",
   "pygments_lexer": "ipython3",
   "version": "3.11.5"
  }
 },
 "nbformat": 4,
 "nbformat_minor": 5
}
